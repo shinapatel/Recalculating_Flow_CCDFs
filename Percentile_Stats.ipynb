{
 "cells": [
  {
   "cell_type": "code",
   "execution_count": 81,
   "metadata": {},
   "outputs": [],
   "source": [
    "import pandas as pd\n",
    "import numpy as np\n",
    "import matplotlib.pyplot as plt\n",
    "import matplotlib.dates as mdates\n",
    "\n",
    "from IPython.display import display"
   ]
  },
  {
   "cell_type": "code",
   "execution_count": 83,
   "metadata": {},
   "outputs": [],
   "source": [
    "#Testing with percentiles\n",
    "def twenty_per_less(num):\n",
    "    \n",
    "    print(\"20 percent less than \", num, \"is\" ,(num * 0.8))\n",
    "\n",
    "def CCDF_baseflow(file_name):\n",
    "\n",
    "    df = pd.read_csv(file_name+\".csv\")\n",
    "\n",
    "    print(\"Baseflow Information: \\n\")\n",
    "    \n",
    "    august_data = df[df['month_nu'] == 8]\n",
    "\n",
    "    average_august_value = august_data['mean_va'].mean()\n",
    "    print(\"Avg Aug Val: \", average_august_value)\n",
    "\n",
    "    per_fifty_average_august_value = august_data['p50_va'].mean()\n",
    "    print(\"50% Avg Aug Val: \", per_fifty_average_august_value)\n",
    "\n",
    "    twenty_per_less(average_august_value)\n",
    "    twenty_per_less(per_fifty_average_august_value)\n"
   ]
  },
  {
   "cell_type": "code",
   "execution_count": 84,
   "metadata": {},
   "outputs": [],
   "source": [
    "#Spring Storms Data (percentiles)\n",
    "def CCDF_spring_storms(file_name):\n",
    "\n",
    "    df = pd.read_csv(file_name+\".csv\")\n",
    "\n",
    "    print(\"Spring Storms Information: \\n\")\n",
    "\n",
    "    eighty_per = df.loc[(df['month_nu'] >= 4) & (df['month_nu'] <= 6) & (df['day_nu'] >= 15) & (df['day_nu'] <= 30), 'p80_va']\n",
    "    twenty_per = df.loc[(df['month_nu'] >= 4) & (df['month_nu'] <= 6) & (df['day_nu'] >= 15) & (df['day_nu'] <= 30), 'p20_va']\n",
    "\n",
    "    eighty_mean_vals = eighty_per.mean()\n",
    "    twenty_mean_vals = twenty_per.mean()\n",
    "\n",
    "    print(eighty_mean_vals)\n",
    "    print(twenty_mean_vals)\n",
    "\n"
   ]
  }
 ],
 "metadata": {
  "kernelspec": {
   "display_name": "base",
   "language": "python",
   "name": "python3"
  },
  "language_info": {
   "codemirror_mode": {
    "name": "ipython",
    "version": 3
   },
   "file_extension": ".py",
   "mimetype": "text/x-python",
   "name": "python",
   "nbconvert_exporter": "python",
   "pygments_lexer": "ipython3",
   "version": "3.11.5"
  }
 },
 "nbformat": 4,
 "nbformat_minor": 2
}

{
 "cells": [
  {
   "cell_type": "code",
   "execution_count": 22,
   "metadata": {},
   "outputs": [],
   "source": [
    "import pandas as pd\n",
    "import numpy as np\n",
    "import matplotlib.pyplot as plt\n",
    "import matplotlib.dates as mdates\n",
    "\n",
    "from IPython.display import display"
   ]
  },
  {
   "cell_type": "code",
   "execution_count": 23,
   "metadata": {},
   "outputs": [],
   "source": [
    "# ---------------------------------\n",
    "# Code  Description\n",
    "# ---------------------------------\n",
    "# e\tThe value has been edited or estimated by USGS personnel.\n",
    "# <\tThe Value is known to be less than reported value.\n",
    "# >\tThe value is known to be greater than reported value.\n",
    "# R\tRecords for these data have been revised.\n",
    "# A\tApproved for publication -- Processing and review completed.\n",
    "# P\tProvisional data subject to revision."
   ]
  },
  {
   "cell_type": "code",
   "execution_count": 24,
   "metadata": {},
   "outputs": [],
   "source": [
    "#Testing with percentiles\n",
    "def twenty_per_less(num):\n",
    "    \n",
    "    print(\"20 percent less than \", num, \"is\" ,(num * 0.8))\n",
    "\n",
    "def CCDF_baseflow(file_name):\n",
    "\n",
    "    df = pd.read_csv(file_name+\".csv\")\n",
    "\n",
    "    print(\"Baseflow Information: \\n\")\n",
    "    \n",
    "    august_data = df[df['month_nu'] == 8]\n",
    "\n",
    "    average_august_value = august_data['mean_va'].mean()\n",
    "    print(\"Avg Aug Val: \", average_august_value)\n",
    "\n",
    "    per_fifty_average_august_value = august_data['p50_va'].mean()\n",
    "    print(\"50% Avg Aug Val: \", per_fifty_average_august_value)\n",
    "\n",
    "    twenty_per_less(average_august_value)\n",
    "    twenty_per_less(per_fifty_average_august_value)\n"
   ]
  },
  {
   "cell_type": "code",
   "execution_count": 25,
   "metadata": {},
   "outputs": [],
   "source": [
    "#Spring Storms Data (percentiles)\n",
    "def CCDF_spring_storms(file_name):\n",
    "\n",
    "    df = pd.read_csv(file_name+\".csv\")\n",
    "\n",
    "    print(\"Spring Storms Information: \\n\")\n",
    "\n",
    "    eighty_per = df.loc[(df['month_nu'] >= 4) & (df['month_nu'] <= 6) & (df['day_nu'] >= 15) & (df['day_nu'] <= 30), 'p80_va']\n",
    "    twenty_per = df.loc[(df['month_nu'] >= 4) & (df['month_nu'] <= 6) & (df['day_nu'] >= 15) & (df['day_nu'] <= 30), 'p20_va']\n",
    "\n",
    "    eighty_mean_vals = eighty_per.mean()\n",
    "    twenty_mean_vals = twenty_per.mean()\n",
    "\n",
    "    print(eighty_mean_vals)\n",
    "    print(twenty_mean_vals)\n",
    "\n"
   ]
  },
  {
   "cell_type": "code",
   "execution_count": 26,
   "metadata": {},
   "outputs": [],
   "source": [
    "#Testing with Average Daily Exceedance Flow Equation\n",
    "def CCDF_aug_avg_daily_exceedance_flow(file_name):\n",
    "\n",
    "    df = pd.read_csv(file_name + \".csv\")\n",
    "    \n",
    "    #august_data = df[df['month_nu'] == 8]\n",
    "    august_data = df[df['month_nu'] == 8].copy()\n",
    "\n",
    "    #august_data['ranked_column_m'] = august_data['mean_va'].rank(ascending=False)\n",
    "\n",
    "    august_data['ranked_column_m'] = august_data.sort_values('mean_va', ascending=False)\n",
    "\n",
    "    df['numbered_col'] = range(1, len(df) + 1)\n",
    "\n",
    "    #sort the values from highest to lowest\n",
    "    #make a new column numbered from 1 to the end of the number or rows (m)\n",
    "    #new column with the calculated P\n",
    "\n",
    "\n",
    "    print(\"ranked column m:\", august_data['ranked_column_m'].head())\n",
    "    print(\"mean values: \", august_data['mean_va'].head())\n",
    "    print(\"????\", august_data['mean_va'].rank(ascending=False))\n",
    "\n",
    "    \n",
    "    #august_data.loc[:, 'ranked_column_m'] = august_data['mean_va'].rank(ascending=False)\n",
    "    #df['ranked_column_m'] = df['mean_va'].rank(ascending=False)\n",
    "    \n",
    "    n = len(august_data)\n",
    "\n",
    "    df['P_Value'] = range(1, len(df) + 1)\n",
    "\n",
    "    P = 0\n",
    "\n",
    "    for i in n:\n",
    "        m = august_data.iloc[i]['ranked_column_m']\n",
    "        #august_data['ranked_column_m'] = august_data['mean_va']\n",
    "        P = 100 * (m / (n + 1))\n",
    "        df.at[i, 'P_Value'] = P\n",
    "        #print(df['P_Value'])"
   ]
  },
  {
   "cell_type": "code",
   "execution_count": 27,
   "metadata": {},
   "outputs": [],
   "source": [
    "#Testing with Average Daily Exceedance Flow Equation\n",
    "def CCDF_spring_flow_avg_daily_exceedance_flow(file_name):\n",
    "\n",
    "    df = pd.read_csv(file_name + \".csv\")\n",
    "\n",
    "    spring_data = df.loc[(df['month_nu'] >= 4) & (df['month_nu'] <= 6) & (df['day_nu'] >= 15) & (df['day_nu'] <= 30), 'mean_va']\n",
    "\n",
    "    spring_data['ranked_column_m'] = spring_data['mean_va'].rank(ascending=False)\n",
    "    \n",
    "    #august_data.loc[:, 'ranked_column_m'] = august_data['mean_va'].rank(ascending=False)\n",
    "    #df['ranked_column_m'] = df['mean_va'].rank(ascending=False)\n",
    "    \n",
    "    n = len(spring_data)\n",
    "\n",
    "    P = 0\n",
    "\n",
    "    for i in range(n):\n",
    "        m = spring_data.iloc[i]['ranked_column_m']\n",
    "        P += 100 * (m / (n + 1))\n",
    "    \n",
    "    print (P)"
   ]
  },
  {
   "cell_type": "code",
   "execution_count": 28,
   "metadata": {},
   "outputs": [
    {
     "name": "stdout",
     "output_type": "stream",
     "text": [
      "Baseflow Information: \n",
      "\n",
      "Avg Aug Val:  310.258064516129\n",
      "50% Avg Aug Val:  267.61290322580646\n",
      "20 percent less than  310.258064516129 is 248.20645161290324\n",
      "20 percent less than  267.61290322580646 is 214.0903225806452\n",
      "Spring Storms Information: \n",
      "\n",
      "1468.0\n",
      "379.3333333333333\n"
     ]
    },
    {
     "ename": "ValueError",
     "evalue": "Cannot set a DataFrame with multiple columns to the single column ranked_column_m",
     "output_type": "error",
     "traceback": [
      "\u001b[0;31m---------------------------------------------------------------------------\u001b[0m",
      "\u001b[0;31mValueError\u001b[0m                                Traceback (most recent call last)",
      "\u001b[0;32m/var/folders/22/yp41wl3d2pd0d9b4zcdlnb380000gn/T/ipykernel_94080/3083550765.py\u001b[0m in \u001b[0;36m?\u001b[0;34m()\u001b[0m\n\u001b[1;32m      1\u001b[0m \u001b[0mCCDF_baseflow\u001b[0m\u001b[0;34m(\u001b[0m\u001b[0;34m'wallstreet_data'\u001b[0m\u001b[0;34m)\u001b[0m\u001b[0;34m\u001b[0m\u001b[0;34m\u001b[0m\u001b[0m\n\u001b[1;32m      2\u001b[0m \u001b[0mCCDF_spring_storms\u001b[0m\u001b[0;34m(\u001b[0m\u001b[0;34m'wallstreet_data'\u001b[0m\u001b[0;34m)\u001b[0m\u001b[0;34m\u001b[0m\u001b[0;34m\u001b[0m\u001b[0m\n\u001b[1;32m      3\u001b[0m \u001b[0;34m\u001b[0m\u001b[0m\n\u001b[0;32m----> 4\u001b[0;31m \u001b[0mCCDF_aug_avg_daily_exceedance_flow\u001b[0m\u001b[0;34m(\u001b[0m\u001b[0;34m'wallstreet_data'\u001b[0m\u001b[0;34m)\u001b[0m\u001b[0;34m\u001b[0m\u001b[0;34m\u001b[0m\u001b[0m\n\u001b[0m\u001b[1;32m      5\u001b[0m \u001b[0;31m#CCDF_spring_flow_avg_daily_exceedance_flow('wallstreet_data')\u001b[0m\u001b[0;34m\u001b[0m\u001b[0;34m\u001b[0m\u001b[0m\n",
      "\u001b[0;32m/var/folders/22/yp41wl3d2pd0d9b4zcdlnb380000gn/T/ipykernel_94080/3951979821.py\u001b[0m in \u001b[0;36m?\u001b[0;34m(file_name)\u001b[0m\n\u001b[1;32m      7\u001b[0m     \u001b[0maugust_data\u001b[0m \u001b[0;34m=\u001b[0m \u001b[0mdf\u001b[0m\u001b[0;34m[\u001b[0m\u001b[0mdf\u001b[0m\u001b[0;34m[\u001b[0m\u001b[0;34m'month_nu'\u001b[0m\u001b[0;34m]\u001b[0m \u001b[0;34m==\u001b[0m \u001b[0;36m8\u001b[0m\u001b[0;34m]\u001b[0m\u001b[0;34m.\u001b[0m\u001b[0mcopy\u001b[0m\u001b[0;34m(\u001b[0m\u001b[0;34m)\u001b[0m\u001b[0;34m\u001b[0m\u001b[0;34m\u001b[0m\u001b[0m\n\u001b[1;32m      8\u001b[0m \u001b[0;34m\u001b[0m\u001b[0m\n\u001b[1;32m      9\u001b[0m     \u001b[0;31m#august_data['ranked_column_m'] = august_data['mean_va'].rank(ascending=False)\u001b[0m\u001b[0;34m\u001b[0m\u001b[0;34m\u001b[0m\u001b[0m\n\u001b[1;32m     10\u001b[0m \u001b[0;34m\u001b[0m\u001b[0m\n\u001b[0;32m---> 11\u001b[0;31m     \u001b[0maugust_data\u001b[0m\u001b[0;34m[\u001b[0m\u001b[0;34m'ranked_column_m'\u001b[0m\u001b[0;34m]\u001b[0m \u001b[0;34m=\u001b[0m \u001b[0maugust_data\u001b[0m\u001b[0;34m.\u001b[0m\u001b[0msort_values\u001b[0m\u001b[0;34m(\u001b[0m\u001b[0;34m'mean_va'\u001b[0m\u001b[0;34m,\u001b[0m \u001b[0mascending\u001b[0m\u001b[0;34m=\u001b[0m\u001b[0;32mFalse\u001b[0m\u001b[0;34m)\u001b[0m\u001b[0;34m\u001b[0m\u001b[0;34m\u001b[0m\u001b[0m\n\u001b[0m\u001b[1;32m     12\u001b[0m \u001b[0;34m\u001b[0m\u001b[0m\n\u001b[1;32m     13\u001b[0m     \u001b[0mdf\u001b[0m\u001b[0;34m[\u001b[0m\u001b[0;34m'numbered_col'\u001b[0m\u001b[0;34m]\u001b[0m \u001b[0;34m=\u001b[0m \u001b[0mrange\u001b[0m\u001b[0;34m(\u001b[0m\u001b[0;36m1\u001b[0m\u001b[0;34m,\u001b[0m \u001b[0mlen\u001b[0m\u001b[0;34m(\u001b[0m\u001b[0mdf\u001b[0m\u001b[0;34m)\u001b[0m \u001b[0;34m+\u001b[0m \u001b[0;36m1\u001b[0m\u001b[0;34m)\u001b[0m\u001b[0;34m\u001b[0m\u001b[0;34m\u001b[0m\u001b[0m\n\u001b[1;32m     14\u001b[0m \u001b[0;34m\u001b[0m\u001b[0m\n",
      "\u001b[0;32m~/anaconda3/lib/python3.11/site-packages/pandas/core/frame.py\u001b[0m in \u001b[0;36m?\u001b[0;34m(self, key, value)\u001b[0m\n\u001b[1;32m   3936\u001b[0m             \u001b[0mself\u001b[0m\u001b[0;34m.\u001b[0m\u001b[0m_setitem_frame\u001b[0m\u001b[0;34m(\u001b[0m\u001b[0mkey\u001b[0m\u001b[0;34m,\u001b[0m \u001b[0mvalue\u001b[0m\u001b[0;34m)\u001b[0m\u001b[0;34m\u001b[0m\u001b[0;34m\u001b[0m\u001b[0m\n\u001b[1;32m   3937\u001b[0m         \u001b[0;32melif\u001b[0m \u001b[0misinstance\u001b[0m\u001b[0;34m(\u001b[0m\u001b[0mkey\u001b[0m\u001b[0;34m,\u001b[0m \u001b[0;34m(\u001b[0m\u001b[0mSeries\u001b[0m\u001b[0;34m,\u001b[0m \u001b[0mnp\u001b[0m\u001b[0;34m.\u001b[0m\u001b[0mndarray\u001b[0m\u001b[0;34m,\u001b[0m \u001b[0mlist\u001b[0m\u001b[0;34m,\u001b[0m \u001b[0mIndex\u001b[0m\u001b[0;34m)\u001b[0m\u001b[0;34m)\u001b[0m\u001b[0;34m:\u001b[0m\u001b[0;34m\u001b[0m\u001b[0;34m\u001b[0m\u001b[0m\n\u001b[1;32m   3938\u001b[0m             \u001b[0mself\u001b[0m\u001b[0;34m.\u001b[0m\u001b[0m_setitem_array\u001b[0m\u001b[0;34m(\u001b[0m\u001b[0mkey\u001b[0m\u001b[0;34m,\u001b[0m \u001b[0mvalue\u001b[0m\u001b[0;34m)\u001b[0m\u001b[0;34m\u001b[0m\u001b[0;34m\u001b[0m\u001b[0m\n\u001b[1;32m   3939\u001b[0m         \u001b[0;32melif\u001b[0m \u001b[0misinstance\u001b[0m\u001b[0;34m(\u001b[0m\u001b[0mvalue\u001b[0m\u001b[0;34m,\u001b[0m \u001b[0mDataFrame\u001b[0m\u001b[0;34m)\u001b[0m\u001b[0;34m:\u001b[0m\u001b[0;34m\u001b[0m\u001b[0;34m\u001b[0m\u001b[0m\n\u001b[0;32m-> 3940\u001b[0;31m             \u001b[0mself\u001b[0m\u001b[0;34m.\u001b[0m\u001b[0m_set_item_frame_value\u001b[0m\u001b[0;34m(\u001b[0m\u001b[0mkey\u001b[0m\u001b[0;34m,\u001b[0m \u001b[0mvalue\u001b[0m\u001b[0;34m)\u001b[0m\u001b[0;34m\u001b[0m\u001b[0;34m\u001b[0m\u001b[0m\n\u001b[0m\u001b[1;32m   3941\u001b[0m         elif (\n\u001b[1;32m   3942\u001b[0m             \u001b[0mis_list_like\u001b[0m\u001b[0;34m(\u001b[0m\u001b[0mvalue\u001b[0m\u001b[0;34m)\u001b[0m\u001b[0;34m\u001b[0m\u001b[0;34m\u001b[0m\u001b[0m\n\u001b[1;32m   3943\u001b[0m             \u001b[0;32mand\u001b[0m \u001b[0;32mnot\u001b[0m \u001b[0mself\u001b[0m\u001b[0;34m.\u001b[0m\u001b[0mcolumns\u001b[0m\u001b[0;34m.\u001b[0m\u001b[0mis_unique\u001b[0m\u001b[0;34m\u001b[0m\u001b[0;34m\u001b[0m\u001b[0m\n",
      "\u001b[0;32m~/anaconda3/lib/python3.11/site-packages/pandas/core/frame.py\u001b[0m in \u001b[0;36m?\u001b[0;34m(self, key, value)\u001b[0m\n\u001b[1;32m   4090\u001b[0m             \u001b[0mself\u001b[0m\u001b[0;34m.\u001b[0m\u001b[0m_set_item_mgr\u001b[0m\u001b[0;34m(\u001b[0m\u001b[0mkey\u001b[0m\u001b[0;34m,\u001b[0m \u001b[0marraylike\u001b[0m\u001b[0;34m)\u001b[0m\u001b[0;34m\u001b[0m\u001b[0;34m\u001b[0m\u001b[0m\n\u001b[1;32m   4091\u001b[0m             \u001b[0;32mreturn\u001b[0m\u001b[0;34m\u001b[0m\u001b[0;34m\u001b[0m\u001b[0m\n\u001b[1;32m   4092\u001b[0m \u001b[0;34m\u001b[0m\u001b[0m\n\u001b[1;32m   4093\u001b[0m         \u001b[0;32mif\u001b[0m \u001b[0mlen\u001b[0m\u001b[0;34m(\u001b[0m\u001b[0mvalue\u001b[0m\u001b[0;34m.\u001b[0m\u001b[0mcolumns\u001b[0m\u001b[0;34m)\u001b[0m \u001b[0;34m!=\u001b[0m \u001b[0;36m1\u001b[0m\u001b[0;34m:\u001b[0m\u001b[0;34m\u001b[0m\u001b[0;34m\u001b[0m\u001b[0m\n\u001b[0;32m-> 4094\u001b[0;31m             raise ValueError(\n\u001b[0m\u001b[1;32m   4095\u001b[0m                 \u001b[0;34m\"Cannot set a DataFrame with multiple columns to the single \"\u001b[0m\u001b[0;34m\u001b[0m\u001b[0;34m\u001b[0m\u001b[0m\n\u001b[1;32m   4096\u001b[0m                 \u001b[0;34mf\"column {key}\"\u001b[0m\u001b[0;34m\u001b[0m\u001b[0;34m\u001b[0m\u001b[0m\n\u001b[1;32m   4097\u001b[0m             )\n",
      "\u001b[0;31mValueError\u001b[0m: Cannot set a DataFrame with multiple columns to the single column ranked_column_m"
     ]
    }
   ],
   "source": [
    "CCDF_baseflow('wallstreet_data')\n",
    "CCDF_spring_storms('wallstreet_data')\n",
    "\n",
    "CCDF_aug_avg_daily_exceedance_flow('wallstreet_data')\n",
    "#CCDF_spring_flow_avg_daily_exceedance_flow('wallstreet_data')"
   ]
  },
  {
   "cell_type": "code",
   "execution_count": null,
   "metadata": {},
   "outputs": [],
   "source": [
    "#Plotting CCDF\n",
    "def CCDF_plot(file_name, x, y):\n",
    "\n",
    "    df = pd.read_csv(file_name + \".csv\")\n",
    "\n",
    "    fig, ax = plt.subplots(figsize=(16, 6))\n",
    "    ax.plot(df[x], df[y], marker='o', linestyle='-')\n",
    "    #plot scatter\n",
    "    plt.title('CCDF of ' + file_name)\n",
    "    plt.xlabel('Flow Duration Interval (or) Exceedance Probability (%)') #P value\n",
    "    plt.ylabel('Mean Daily Flow (cfs)')\n",
    "    plt.grid(True)\n",
    "\n",
    "    return plt.show()"
   ]
  }
 ],
 "metadata": {
  "kernelspec": {
   "display_name": "base",
   "language": "python",
   "name": "python3"
  },
  "language_info": {
   "codemirror_mode": {
    "name": "ipython",
    "version": 3
   },
   "file_extension": ".py",
   "mimetype": "text/x-python",
   "name": "python",
   "nbconvert_exporter": "python",
   "pygments_lexer": "ipython3",
   "version": "3.11.5"
  }
 },
 "nbformat": 4,
 "nbformat_minor": 2
}

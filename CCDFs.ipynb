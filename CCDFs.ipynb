{
 "cells": [
  {
   "cell_type": "code",
   "execution_count": 20,
   "metadata": {},
   "outputs": [],
   "source": [
    "import pandas as pd\n",
    "import numpy as np\n",
    "import matplotlib.pyplot as plt\n",
    "import matplotlib.dates as mdates\n",
    "\n",
    "from IPython.display import display"
   ]
  },
  {
   "cell_type": "code",
   "execution_count": null,
   "metadata": {},
   "outputs": [],
   "source": [
    "# ---------------------------------\n",
    "# Code  Description\n",
    "# ---------------------------------\n",
    "# e\tThe value has been edited or estimated by USGS personnel.\n",
    "# <\tThe Value is known to be less than reported value.\n",
    "# >\tThe value is known to be greater than reported value.\n",
    "# R\tRecords for these data have been revised.\n",
    "# A\tApproved for publication -- Processing and review completed.\n",
    "# P\tProvisional data subject to revision."
   ]
  },
  {
   "cell_type": "code",
   "execution_count": 21,
   "metadata": {},
   "outputs": [],
   "source": [
    "#Testing with percentiles\n",
    "def twenty_per_less(num):\n",
    "    \n",
    "    print(\"20 percent less than \", num, \"is\" ,(num * 0.8))\n",
    "\n",
    "def CCDF_baseflow(file_name):\n",
    "\n",
    "    df = pd.read_csv(file_name+\".csv\")\n",
    "\n",
    "    print(\"Baseflow Information: \\n\")\n",
    "    \n",
    "    august_data = df[df['month_nu'] == 8]\n",
    "\n",
    "    average_august_value = august_data['mean_va'].mean()\n",
    "    print(\"Avg Aug Val: \", average_august_value)\n",
    "\n",
    "    per_fifty_average_august_value = august_data['p50_va'].mean()\n",
    "    print(\"50% Avg Aug Val: \", per_fifty_average_august_value)\n",
    "\n",
    "    twenty_per_less(average_august_value)\n",
    "    twenty_per_less(per_fifty_average_august_value)\n"
   ]
  },
  {
   "cell_type": "code",
   "execution_count": 22,
   "metadata": {},
   "outputs": [],
   "source": [
    "#Spring Storms Data (percentiles)\n",
    "def CCDF_spring_storms(file_name):\n",
    "\n",
    "    df = pd.read_csv(file_name+\".csv\")\n",
    "\n",
    "    print(\"Spring Storms Information: \\n\")\n",
    "\n",
    "    eighty_per = df.loc[(df['month_nu'] >= 4) & (df['month_nu'] <= 6) & (df['day_nu'] >= 15) & (df['day_nu'] <= 30), 'p80_va']\n",
    "    twenty_per = df.loc[(df['month_nu'] >= 4) & (df['month_nu'] <= 6) & (df['day_nu'] >= 15) & (df['day_nu'] <= 30), 'p20_va']\n",
    "\n",
    "    eighty_mean_vals = eighty_per.mean()\n",
    "    twenty_mean_vals = twenty_per.mean()\n",
    "\n",
    "    print(eighty_mean_vals)\n",
    "    print(twenty_mean_vals)\n",
    "\n"
   ]
  },
  {
   "cell_type": "code",
   "execution_count": 23,
   "metadata": {},
   "outputs": [],
   "source": [
    "#Testing with Average Daily Exceedance Flow Equation\n",
    "def CCDF_aug_avg_daily_exceedance_flow(file_name):\n",
    "\n",
    "    df = pd.read_csv(file_name + \".csv\")\n",
    "    \n",
    "    #august_data = df[df['month_nu'] == 8]\n",
    "    august_data = df[df['month_nu'] == 8].copy()\n",
    "\n",
    "    august_data['ranked_column_m'] = august_data['mean_va'].rank(ascending=False)\n",
    "    \n",
    "    #august_data.loc[:, 'ranked_column_m'] = august_data['mean_va'].rank(ascending=False)\n",
    "    #df['ranked_column_m'] = df['mean_va'].rank(ascending=False)\n",
    "    \n",
    "    n = len(august_data)\n",
    "\n",
    "    P = 0\n",
    "\n",
    "    for i in range(n):\n",
    "        m = august_data.iloc[i]['ranked_column_m']\n",
    "        P += 100 * (m / (n + 1))\n",
    "    \n",
    "    print (P)"
   ]
  },
  {
   "cell_type": "code",
   "execution_count": 24,
   "metadata": {},
   "outputs": [],
   "source": [
    "#Testing with Average Daily Exceedance Flow Equation\n",
    "def CCDF_spring_flow_avg_daily_exceedance_flow(file_name):\n",
    "\n",
    "    df = pd.read_csv(file_name + \".csv\")\n",
    "\n",
    "    spring_data = df.loc[(df['month_nu'] >= 4) & (df['month_nu'] <= 6) & (df['day_nu'] >= 15) & (df['day_nu'] <= 30), 'mean_va']\n",
    "\n",
    "    spring_data['ranked_column_m'] = spring_data['mean_va'].rank(ascending=False)\n",
    "    \n",
    "    #august_data.loc[:, 'ranked_column_m'] = august_data['mean_va'].rank(ascending=False)\n",
    "    #df['ranked_column_m'] = df['mean_va'].rank(ascending=False)\n",
    "    \n",
    "    n = len(spring_data)\n",
    "\n",
    "    P = 0\n",
    "\n",
    "    for i in range(n):\n",
    "        m = spring_data.iloc[i]['ranked_column_m']\n",
    "        P += 100 * (m / (n + 1))\n",
    "    \n",
    "    print (P)"
   ]
  },
  {
   "cell_type": "code",
   "execution_count": 25,
   "metadata": {},
   "outputs": [
    {
     "name": "stdout",
     "output_type": "stream",
     "text": [
      "Baseflow Information: \n",
      "\n",
      "Avg Aug Val:  310.258064516129\n",
      "50% Avg Aug Val:  267.61290322580646\n",
      "20 percent less than  310.258064516129 is 248.20645161290324\n",
      "20 percent less than  267.61290322580646 is 214.0903225806452\n",
      "Spring Storms Information: \n",
      "\n",
      "1468.0\n",
      "379.3333333333333\n",
      "1550.0\n"
     ]
    }
   ],
   "source": [
    "CCDF_baseflow('wallstreet_data')\n",
    "CCDF_spring_storms('wallstreet_data')\n",
    "\n",
    "CCDF_aug_avg_daily_exceedance_flow('wallstreet_data')\n",
    "#CCDF_spring_flow_avg_daily_exceedance_flow('wallstreet_data')"
   ]
  },
  {
   "cell_type": "code",
   "execution_count": 26,
   "metadata": {},
   "outputs": [],
   "source": [
    "#Plotting CCDF\n",
    "def CCDF_plot(file_name, x, y):\n",
    "\n",
    "    df = pd.read_csv(file_name + \".csv\")\n",
    "\n",
    "    fig, ax = plt.subplots(figsize=(16, 6))\n",
    "    ax.plot(df[x], df[y], marker='o', linestyle='-')\n",
    "\n",
    "    plt.title('CCDF of ' + file_name)\n",
    "    plt.xlabel('Flow Duration Interval (or) Exceedance Probability (%)')\n",
    "    plt.ylabel('Mean Daily Flow (cfs)')\n",
    "    plt.grid(True)\n",
    "\n",
    "    return plt.show()"
   ]
  }
 ],
 "metadata": {
  "kernelspec": {
   "display_name": "base",
   "language": "python",
   "name": "python3"
  },
  "language_info": {
   "codemirror_mode": {
    "name": "ipython",
    "version": 3
   },
   "file_extension": ".py",
   "mimetype": "text/x-python",
   "name": "python",
   "nbconvert_exporter": "python",
   "pygments_lexer": "ipython3",
   "version": "3.11.5"
  }
 },
 "nbformat": 4,
 "nbformat_minor": 2
}

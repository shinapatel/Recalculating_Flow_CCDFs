{
 "cells": [
  {
   "cell_type": "code",
   "execution_count": null,
   "metadata": {},
   "outputs": [],
   "source": [
    "import pandas as pd\n",
    "import numpy as np\n",
    "import matplotlib.pyplot as plt\n",
    "import matplotlib.dates as mdates\n",
    "\n",
    "from IPython.display import display"
   ]
  },
  {
   "cell_type": "code",
   "execution_count": null,
   "metadata": {},
   "outputs": [],
   "source": [
    "def plotTimeSeries(file_name):\n",
    "\n",
    "    df = pd.read_csv(file_name+\".csv\")\n",
    "    df['datetime'] = pd.to_datetime(df['datetime'])\n",
    "    df\n",
    "\n",
    "    # Plot the time series\n",
    "    fig, ax = plt.subplots(figsize=(10, 6))\n",
    "    ax.plot(df['datetime'], df['72359_00060'], marker='o', linestyle='-')\n",
    "\n",
    "    plt.title('Time Series Plot')\n",
    "    plt.xlabel('Date')\n",
    "    plt.ylabel('Value')\n",
    "    plt.grid(True)\n",
    "\n",
    "    return plt.show()"
   ]
  },
  {
   "cell_type": "code",
   "execution_count": null,
   "metadata": {},
   "outputs": [],
   "source": [
    "plotTimeSeries(huron_river_data)"
   ]
  }
 ],
 "metadata": {
  "language_info": {
   "name": "python"
  }
 },
 "nbformat": 4,
 "nbformat_minor": 2
}
